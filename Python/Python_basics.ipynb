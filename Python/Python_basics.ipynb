{
  "nbformat": 4,
  "nbformat_minor": 0,
  "metadata": {
    "colab": {
      "provenance": []
    },
    "kernelspec": {
      "name": "python3",
      "display_name": "Python 3"
    },
    "language_info": {
      "name": "python"
    }
  },
  "cells": [
    {
      "cell_type": "code",
      "source": [
        "#1. leap year \n",
        "#if the year is divided by the 400 and 4. and the year is divided by the year 400 and not by the 100, then leap year\n",
        "def leap_year(year):\n",
        "  result = True if ((year%400 == 0 or year%4==0) and (year%400 == 0 or year%100!=0)) else False\n",
        "  return result"
      ],
      "metadata": {
        "id": "mEyGzEQzXM8A"
      },
      "execution_count": null,
      "outputs": []
    },
    {
      "cell_type": "code",
      "execution_count": null,
      "metadata": {
        "colab": {
          "base_uri": "https://localhost:8080/"
        },
        "id": "7s2uIcBYV2UP",
        "outputId": "0fb6c0d0-c2ae-49cd-a332-3495fe1c2d58"
      },
      "outputs": [
        {
          "output_type": "stream",
          "name": "stdout",
          "text": [
            "True\n"
          ]
        }
      ],
      "source": [
        "print(leap_year(2000))\n"
      ]
    },
    {
      "cell_type": "code",
      "source": [
        "'''2.\n",
        "Write a Python function that takes two lists of integers as input and returns a new list\n",
        "containing only the numbers that are present in both lists, but with each number\n",
        "appearing only once in the final list.\n",
        "'''\n",
        "\n",
        "list1= [1,2,3,4,3,4,5,5,5]\n",
        "list2=[3,3,4,4,5,6]\n",
        "new_list=[]\n",
        "\n",
        "def insert_item(list1,list2):\n",
        "    #changing the list to set to remove the duplicate\n",
        "    for x in set(list1):\n",
        "        if x in set(list2):\n",
        "            new_list.append(x)\n",
        "    \n",
        "    return new_list\n",
        "\n",
        "insert_item(list1,list2)\n",
        "    \n",
        "print(new_list)"
      ],
      "metadata": {
        "colab": {
          "base_uri": "https://localhost:8080/"
        },
        "id": "KJVPr_BkV_rA",
        "outputId": "48ae68bc-e2c9-4cf7-9e75-1f9dea8efaee"
      },
      "execution_count": null,
      "outputs": [
        {
          "output_type": "stream",
          "name": "stdout",
          "text": [
            "[3, 4, 5]\n"
          ]
        }
      ]
    },
    {
      "cell_type": "code",
      "source": [
        "'''3.\n",
        "Write a Python program that takes a string as input and returns a dictionary where\n",
        "each key is a unique word in the string and the value is a list of the indices where that\n",
        "word appears in the string.\n",
        "'''\n",
        "\n",
        "word = input(\"Enter the string:\")\n",
        "\n",
        "\n",
        "def count(word):\n",
        "   x=word.split()\n",
        "\n",
        "   wordcount = {word : [i for i,w in enumerate(x) if w == word] for word in x}\n",
        "   return wordcount\n",
        "\n",
        "print(count(word))\n",
        "\n"
      ],
      "metadata": {
        "colab": {
          "base_uri": "https://localhost:8080/"
        },
        "id": "dm9PaKurV_uM",
        "outputId": "e42c6510-98d9-404a-c227-93f6c05fffe8"
      },
      "execution_count": null,
      "outputs": [
        {
          "output_type": "stream",
          "name": "stdout",
          "text": [
            "Enter the string:my name is\n",
            "{'my': [0], 'name': [1], 'is': [2]}\n"
          ]
        }
      ]
    },
    {
      "cell_type": "code",
      "source": [
        "# 4. Write a Python function that takes a list of integers as input \n",
        "# and returns a new list with the elements sorted in descending order,\n",
        "#  but with all odd numbers appearing before all even numbers.\n",
        "\n",
        "\n",
        "def sort_odd_even(numbers):\n",
        "    #only return list with odd number \n",
        "    odd_numbers = sorted([num for num in numbers if num % 2 != 0], reverse=True)\n",
        "    #returns list with even numbers\n",
        "    even_numbers = sorted([num for num in numbers if num % 2 == 0], reverse=True)\n",
        "    #returning the lists\n",
        "    return odd_numbers + even_numbers\n",
        "\n",
        "sort_odd_even([2,3,4,1,2,7])"
      ],
      "metadata": {
        "colab": {
          "base_uri": "https://localhost:8080/"
        },
        "id": "rYpz11LfZRm7",
        "outputId": "085839b0-f246-4752-8592-cee207656234"
      },
      "execution_count": 1,
      "outputs": [
        {
          "output_type": "execute_result",
          "data": {
            "text/plain": [
              "[7, 3, 1, 4, 2, 2]"
            ]
          },
          "metadata": {},
          "execution_count": 1
        }
      ]
    },
    {
      "cell_type": "markdown",
      "source": [
        "5. Write a Python program that takes two sets as input and returns a new set containing the elements that are in the first set but not in the second set, and the elements that are in the second set but not in the first set."
      ],
      "metadata": {
        "id": "k_sLFMxi59LR"
      }
    },
    {
      "cell_type": "code",
      "source": [
        "# (s1-s2) union (s2-s1)\n",
        "\n",
        "def set_difference(s1, s2):\n",
        "    \"\"\"\n",
        "    Args:\n",
        "        a: set\n",
        "        b: set\n",
        "    Returns:\n",
        "        set\n",
        "    \"\"\"\n",
        "    return s1.symmetric_difference(s2)\n",
        "\n",
        "set_difference({1,2,3,4,5}, {4,5,6,7,8})"
      ],
      "metadata": {
        "colab": {
          "base_uri": "https://localhost:8080/"
        },
        "id": "dF1Lfz1c6PbT",
        "outputId": "efe341de-3f2a-45ba-eff6-6f026ff68de5"
      },
      "execution_count": 2,
      "outputs": [
        {
          "output_type": "execute_result",
          "data": {
            "text/plain": [
              "{1, 2, 3, 6, 7, 8}"
            ]
          },
          "metadata": {},
          "execution_count": 2
        }
      ]
    },
    {
      "cell_type": "markdown",
      "source": [
        "6. Write a Python function that takes a list of strings as input and returns a new list containing only the strings that are palindromes"
      ],
      "metadata": {
        "id": "JTgc__JF6sWo"
      }
    },
    {
      "cell_type": "code",
      "source": [
        "def palindromes(strings):\n",
        "    palindrome = []\n",
        "    for string in strings:\n",
        "        if string == string[::-1]:\n",
        "            palindrome.append(string)\n",
        "    return palindrome\n",
        "\n",
        "palindromes(['go', 'yes', 'madam', 'anna', 'nandan'])\n",
        "\n",
        "\n"
      ],
      "metadata": {
        "colab": {
          "base_uri": "https://localhost:8080/"
        },
        "id": "qotO1HWu51nu",
        "outputId": "f63bfb5e-0469-45d2-864c-59fdf9280f3a"
      },
      "execution_count": 4,
      "outputs": [
        {
          "output_type": "execute_result",
          "data": {
            "text/plain": [
              "['madam', 'anna']"
            ]
          },
          "metadata": {},
          "execution_count": 4
        }
      ]
    },
    {
      "cell_type": "markdown",
      "source": [
        "7. Write a Python program that takes a list of tuples, where each tuple contains a string and an integer, and returns a new list containing the tuples sorted by the length of the string, with ties broken by the value of the integer."
      ],
      "metadata": {
        "id": "nPJSgbkX7jje"
      }
    },
    {
      "cell_type": "code",
      "source": [
        "def sort_tuples(data):\n",
        "    sort_data = sorted(data, key=lambda x: (len(x[0]), x[1]))\n",
        "    return sort_data\n",
        "\n",
        "# Example \n",
        "data = [(\"nandan\", 3), (\"sing\", 2), (\"oe\", 1), (\"yes\", 2), (\"go\", 1)]\n",
        "sort_tuples(data)\n"
      ],
      "metadata": {
        "colab": {
          "base_uri": "https://localhost:8080/"
        },
        "id": "-EOUsFQE7pgq",
        "outputId": "58c7d6da-0619-4429-98f4-b6efc2caa72a"
      },
      "execution_count": 5,
      "outputs": [
        {
          "output_type": "execute_result",
          "data": {
            "text/plain": [
              "[('oe', 1), ('go', 1), ('yes', 2), ('sing', 2), ('nandan', 3)]"
            ]
          },
          "metadata": {},
          "execution_count": 5
        }
      ]
    },
    {
      "cell_type": "markdown",
      "source": [
        "8. Write a Python function that takes a dictionary as input and returns a new dictionary where the keys are sorted alphabetically and the values are sorted in descending order."
      ],
      "metadata": {
        "id": "nuUnDO428sn6"
      }
    },
    {
      "cell_type": "code",
      "source": [
        "def sorting_dict(di):\n",
        "\n",
        "    sorted_keys = dict(sorted(di.items()))\n",
        "    sorted_value = dict(sorted(di.items(),key = lambda x : x[1] ,reverse=True))\n",
        "    return sorted_keys, sorted_value\n",
        "\n",
        "sorting_dict({'b': 1, 'd': 2, 'c': 4, 'a': 2})\n"
      ],
      "metadata": {
        "colab": {
          "base_uri": "https://localhost:8080/"
        },
        "id": "EEuQc1Dk8p8D",
        "outputId": "478a67f6-e50e-48f3-a79e-9deae9f0a578"
      },
      "execution_count": 8,
      "outputs": [
        {
          "output_type": "execute_result",
          "data": {
            "text/plain": [
              "({'a': 2, 'b': 1, 'c': 4, 'd': 2}, {'c': 4, 'd': 2, 'a': 2, 'b': 1})"
            ]
          },
          "metadata": {},
          "execution_count": 8
        }
      ]
    },
    {
      "cell_type": "markdown",
      "source": [
        "9. Write a Python program that takes a list of tuples, where each tuple contains a string and a set of integers, and returns a new list containing the tuples sorted by the sum of the integers in the set, with ties broken by the length of the string."
      ],
      "metadata": {
        "id": "ITPHj7S5-ic8"
      }
    },
    {
      "cell_type": "code",
      "source": [
        "def sortListWithTuple(l):\n",
        "    \"\"\"\n",
        "    Args:\n",
        "        l: list\n",
        "            list of tuples with first element as string and second as set of integers\n",
        "    Returns:\n",
        "        list of tuples sorted by sum of integers in set\n",
        "    \"\"\"\n",
        "    return sorted(l, key=lambda x: (sum(x[1]), len(x[0])))\n",
        "\n",
        "sortListWithTuple([('abc', {10,20,30}), (\"apple\", {3, 1, 5}), (\"banana\", {2, 4}), ('b', {10,3,2})])"
      ],
      "metadata": {
        "colab": {
          "base_uri": "https://localhost:8080/"
        },
        "id": "WLTx8-iw-mxN",
        "outputId": "8ad82399-c5d1-45cc-bb35-ba9b56661474"
      },
      "execution_count": 9,
      "outputs": [
        {
          "output_type": "execute_result",
          "data": {
            "text/plain": [
              "[('banana', {2, 4}),\n",
              " ('apple', {1, 3, 5}),\n",
              " ('b', {2, 3, 10}),\n",
              " ('abc', {10, 20, 30})]"
            ]
          },
          "metadata": {},
          "execution_count": 9
        }
      ]
    },
    {
      "cell_type": "markdown",
      "source": [
        "10. Write a Python function that takes a string as input and returns a new string where each word in the string is replaced with the word that appears most frequently in the string."
      ],
      "metadata": {
        "id": "nxZ57mmh_QVM"
      }
    },
    {
      "cell_type": "code",
      "source": [
        "def wordRepeat(str):\n",
        "    \"\"\"\n",
        "    Args:\n",
        "        str: string\n",
        "    Returns:\n",
        "        string where each word is replaced with the word that appers most frequently in the string\n",
        "    \"\"\"\n",
        "    temp = str.split(' ')\n",
        "    max_word = max(temp, key=temp.count)\n",
        "    return ''.join(f\" {max_word}\" for _ in range(len(temp)))[1:]\n",
        "\n",
        "\n",
        "wordRepeat('nandan singh hello world hello')"
      ],
      "metadata": {
        "colab": {
          "base_uri": "https://localhost:8080/",
          "height": 35
        },
        "id": "5mU6vUTL_VSr",
        "outputId": "ff72c5e8-b6ac-424b-ba06-1f5111851180"
      },
      "execution_count": 11,
      "outputs": [
        {
          "output_type": "execute_result",
          "data": {
            "text/plain": [
              "'hello hello hello hello hello'"
            ],
            "application/vnd.google.colaboratory.intrinsic+json": {
              "type": "string"
            }
          },
          "metadata": {},
          "execution_count": 11
        }
      ]
    },
    {
      "cell_type": "markdown",
      "source": [
        "11. Write a Python program that takes a list of tuples, where each tuple contains a string and a list of integers, and returns a new list containing the tuples sorted by the median of the integers in the list, with ties broken by the length of the string."
      ],
      "metadata": {
        "id": "vi69c3jg_4rL"
      }
    },
    {
      "cell_type": "code",
      "source": [
        "import statistics\n",
        "\n",
        "def sort_tuples(data):\n",
        "    sorted_data = sorted(data, key=lambda x: (statistics.median(x[1]), len(x[0])))\n",
        "    return sorted_data\n",
        "\n",
        "# Example usage\n",
        "data = [(\"apple\", [3, 1, 5]), (\"banana\", [2, 4]), (\"orange\", [1, 3, 5, 7]), (\"kiwi\", [2]), (\"mango\", [1, 3])]\n",
        "sorted_tuples = sort_tuples(data)\n",
        "print(sorted_tuples)\n"
      ],
      "metadata": {
        "colab": {
          "base_uri": "https://localhost:8080/"
        },
        "id": "Y67gAliuAAZv",
        "outputId": "53a7bf0b-fae4-49ae-aca8-ac6f44474075"
      },
      "execution_count": 12,
      "outputs": [
        {
          "output_type": "stream",
          "name": "stdout",
          "text": [
            "[('kiwi', [2]), ('mango', [1, 3]), ('apple', [3, 1, 5]), ('banana', [2, 4]), ('orange', [1, 3, 5, 7])]\n"
          ]
        }
      ]
    },
    {
      "cell_type": "markdown",
      "source": [
        "12. Given an integer array nums, rotate the array to the right by k steps, where k is non-negative. For example nums = [1,2,3,4,5,6,7], k=3 should output [5,6,7,1,2,3,4] Do it with the least possible space. I.e O(1) space complexity."
      ],
      "metadata": {
        "id": "k6Ruo8DWALuo"
      }
    },
    {
      "cell_type": "code",
      "source": [
        "def reverse(nums, start, end):\n",
        "    while start < end:\n",
        "        nums[start], nums[end] = nums[end], nums[start]\n",
        "        start += 1\n",
        "        end -= 1\n",
        "\n",
        "def rotate(nums, k):\n",
        "    n = len(nums)\n",
        "    k %= n  # Calculate effective rotations within range\n",
        "    \n",
        "    reverse(nums, 0, n - 1)  # Reverse the entire array\n",
        "    reverse(nums, 0, k - 1)  # Reverse first k elements\n",
        "    reverse(nums, k, n - 1)  # Reverse remaining elements\n",
        "\n",
        "# Example\n",
        "nums = [1, 2, 3, 4, 5, 6, 7]\n",
        "k = 3\n",
        "rotate(nums, k)\n",
        "print(nums)  # Output: [5, 6, 7, 1, 2, 3, 4]\n"
      ],
      "metadata": {
        "colab": {
          "base_uri": "https://localhost:8080/"
        },
        "id": "IlWR7d2bAUjq",
        "outputId": "5079832f-d1fe-4707-dfa5-4c26438b9a62"
      },
      "execution_count": 13,
      "outputs": [
        {
          "output_type": "stream",
          "name": "stdout",
          "text": [
            "[5, 6, 7, 1, 2, 3, 4]\n"
          ]
        }
      ]
    }
  ]
}